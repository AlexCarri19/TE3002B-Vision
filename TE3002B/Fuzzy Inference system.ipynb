{
 "cells": [
  {
   "cell_type": "code",
   "execution_count": 10,
   "id": "a93b564d",
   "metadata": {},
   "outputs": [],
   "source": [
    "import pandas as pd\n",
    "import skfuzzy as fuzz\n",
    "from skfuzzy import control as ctrl"
   ]
  },
  {
   "cell_type": "code",
   "execution_count": 11,
   "id": "2767047a",
   "metadata": {},
   "outputs": [],
   "source": [
    "def find(var , str):\n",
    "    for i in range (len(var)):\n",
    "        if var[i] == str:\n",
    "            return i"
   ]
  },
  {
   "cell_type": "code",
   "execution_count": 13,
   "id": "f14a849a",
   "metadata": {},
   "outputs": [],
   "source": [
    "#OverallQual = 18 C\n",
    "\n",
    "variables = [\"Id\",\"MSSubClass\",\"MSZoning\",\"LotFrontage\",\"LotArea\",\"Street\",\"Alley\",\"LotShape\",\"LandContour\",\"Utilities\",\"LotConfig\",\"LandSlope\",\"Neighborhood\",\"Condition1\",\"Condition2\",\"BldgType\",\"HouseStyle\",\"OverallQual\",\"OverallCond\",\"YearBuilt\",\"YearRemodAdd\",\"RoofStyle\",\"RoofMatl\",\"Exterior1st\",\"Exterior2nd\",\"MasVnrType\",\"MasVnrArea\",\"ExterQual\",\"ExterCond\",\"Foundation\",\"BsmtQual\",\"BsmtCond\",\"BsmtExposure\",\"BsmtFinType1\",\"BsmtFinSF1\",\"BsmtFinType2\",\"BsmtFinSF2\",\"BsmtUnfSF\",\"TotalBsmtSF\",\"Heating\",\"HeatingQC\",\"CentralAir\",\"Electrical\",\"1stFlrSF\",\"2ndFlrSF\",\"LowQualFinSF\",\"GrLivArea\",\"BsmtFullBath\",\"BsmtHalfBath\",\"FullBath\",\"HalfBath\",\"BedroomAbvGr\",\"KitchenAbvGr\",\"KitchenQual\",\"TotRmsAbvGrd\",\"Functional\",\"Fireplaces\",\"FireplaceQu\",\"GarageType\",\"GarageYrBlt\",\"GarageFinish\",\"GarageCars\",\"GarageArea\",\"GarageQual\",\"GarageCond\",\"PavedDrive\",\"WoodDeckSF\",\"OpenPorchSF\",\"EnclosedPorch\",\"3SsnPorch\",\"ScreenPorch\",\"PoolArea\",\"PoolQC\",\"Fence\",\"MiscFeature\",\"MiscVal\",\"MoSold\",\"YrSold\",\"SaleType\",\"SaleCondition\",\"SalePrice\"]\n",
    "\n",
    "saleC = find(variables , \"SaleCondition\")\n",
    "overalQ = find(variables , \"OverallQual\")#OverallQual\n",
    "bedR = find(variables , \"BedroomAbvGr\")#BedroomAbvGr\n",
    "\n",
    "data = pd.read_csv(\"hp_train.csv\" , sep = ',' , comment = '#').values\n"
   ]
  },
  {
   "cell_type": "code",
   "execution_count": 14,
   "id": "b1ad107f",
   "metadata": {},
   "outputs": [
    {
     "name": "stdout",
     "output_type": "stream",
     "text": [
      "79\n"
     ]
    }
   ],
   "source": [
    "sale_condition = ctrl.Antecedent(np.arange(0, 11, 1), 'SaleCondition')\n",
    "overall_quality = ctrl.Antecedent(np.arange(1, 11, 1), 'OverallQual')\n",
    "bedrooms = ctrl.Antecedent(np.arange(0, 11, 1), 'BedroomAbvGr')\n",
    "sale_price = ctrl.Consequent(np.arange(0, 1000000, 1000), 'SalePrice')\n",
    "\n",
    "sale_condition['bajo'] = fuzz.trimf(sale_condition.universe, [0, 0, 5])\n",
    "sale_condition['medio'] = fuzz.trimf(sale_condition.universe, [0, 5, 10])\n",
    "sale_condition['alto'] = fuzz.trimf(sale_condition.universe, [5, 10, 10])\n"
   ]
  },
  {
   "cell_type": "code",
   "execution_count": null,
   "id": "0fc48da3",
   "metadata": {},
   "outputs": [],
   "source": []
  }
 ],
 "metadata": {
  "kernelspec": {
   "display_name": "Python 3 (ipykernel)",
   "language": "python",
   "name": "python3"
  },
  "language_info": {
   "codemirror_mode": {
    "name": "ipython",
    "version": 3
   },
   "file_extension": ".py",
   "mimetype": "text/x-python",
   "name": "python",
   "nbconvert_exporter": "python",
   "pygments_lexer": "ipython3",
   "version": "3.10.7"
  }
 },
 "nbformat": 4,
 "nbformat_minor": 5
}
